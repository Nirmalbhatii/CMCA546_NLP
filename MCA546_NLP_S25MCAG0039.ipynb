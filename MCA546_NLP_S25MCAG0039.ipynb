{
  "nbformat": 4,
  "nbformat_minor": 0,
  "metadata": {
    "colab": {
      "provenance": [],
      "toc_visible": true,
      "authorship_tag": "ABX9TyOzzBSdgls8Mrh7Qumhb3MS",
      "include_colab_link": true
    },
    "kernelspec": {
      "name": "python3",
      "display_name": "Python 3"
    },
    "language_info": {
      "name": "python"
    }
  },
  "cells": [
    {
      "cell_type": "markdown",
      "metadata": {
        "id": "view-in-github",
        "colab_type": "text"
      },
      "source": [
        "<a href=\"https://colab.research.google.com/github/Nirmalbhatii/CMCA546_NLP/blob/main/Copy_of_MCA546_NLP.ipynb\" target=\"_parent\"><img src=\"https://colab.research.google.com/assets/colab-badge.svg\" alt=\"Open In Colab\"/></a>"
      ]
    },
    {
      "cell_type": "code",
      "execution_count": null,
      "metadata": {
        "colab": {
          "base_uri": "https://localhost:8080/"
        },
        "id": "3hYSYCg4tXRM",
        "outputId": "493baf95-e3fd-457c-d481-9e25d073b666"
      },
      "outputs": [
        {
          "output_type": "stream",
          "name": "stdout",
          "text": [
            "['https://www.xy123z.com/']\n"
          ]
        }
      ],
      "source": [
        "import re\n",
        "\n",
        "example = \"I love spending time at https://www.xy123z.com/\"\n",
        "url = re.findall(r'https?://[^\\s]+', example)\n",
        "print(url)\n"
      ]
    },
    {
      "cell_type": "code",
      "source": [
        "example = \"My email id is xyz111@gmail.com\"\n",
        "email = re.findall(r'\\b[\\w.-]+@[\\w.-]+\\.\\w+\\b', example)\n",
        "print(email)\n"
      ],
      "metadata": {
        "colab": {
          "base_uri": "https://localhost:8080/"
        },
        "id": "bz2v0WHuun-r",
        "outputId": "87042e4d-ecf9-4804-8720-e6795580fb8d"
      },
      "execution_count": null,
      "outputs": [
        {
          "output_type": "stream",
          "name": "stdout",
          "text": [
            "['xyz111@gmail.com']\n"
          ]
        }
      ]
    },
    {
      "cell_type": "code",
      "source": [
        "example = \"#Sushant is trending now in the world.\"\n",
        "hashtags = re.findall(r'#\\w+', example)\n",
        "print(hashtags)\n"
      ],
      "metadata": {
        "colab": {
          "base_uri": "https://localhost:8080/"
        },
        "id": "rro6ySlIvA96",
        "outputId": "79b4a0ef-cdf8-4d57-f42b-435140f654ef"
      },
      "execution_count": null,
      "outputs": [
        {
          "output_type": "stream",
          "name": "stdout",
          "text": [
            "['#Sushant']\n"
          ]
        }
      ]
    },
    {
      "cell_type": "code",
      "source": [
        "example = \"@Ajit, please help me\"\n",
        "mentions = re.findall(r'@\\w+', example)\n",
        "print(mentions)\n"
      ],
      "metadata": {
        "colab": {
          "base_uri": "https://localhost:8080/"
        },
        "id": "5-w-8v6YvC9w",
        "outputId": "2c9e030c-71d1-4acc-8f52-0a6d5aeda386"
      },
      "execution_count": null,
      "outputs": [
        {
          "output_type": "stream",
          "name": "stdout",
          "text": [
            "['@Ajit']\n"
          ]
        }
      ]
    },
    {
      "cell_type": "code",
      "source": [
        "example = \"8853147 sq. km of area washed away in floods\"\n",
        "numbers = re.findall(r'\\d+', example)\n",
        "print(numbers)\n"
      ],
      "metadata": {
        "colab": {
          "base_uri": "https://localhost:8080/"
        },
        "id": "1uQKC58UvGVa",
        "outputId": "77672a18-e090-4b5c-b829-28a9ba4993e4"
      },
      "execution_count": null,
      "outputs": [
        {
          "output_type": "stream",
          "name": "stdout",
          "text": [
            "['8853147']\n"
          ]
        }
      ]
    },
    {
      "cell_type": "code",
      "source": [
        "example = \"Corona virus killed #24506 people. #Corona is un(tolerable)\"\n",
        "punctuations = re.findall(r'[^\\w\\s]', example)\n",
        "print(punctuations)\n"
      ],
      "metadata": {
        "colab": {
          "base_uri": "https://localhost:8080/"
        },
        "id": "D_AQ8WRuxhW-",
        "outputId": "a1dbcdff-5db2-48ff-b97f-a418c37b41b8"
      },
      "execution_count": null,
      "outputs": [
        {
          "output_type": "stream",
          "name": "stdout",
          "text": [
            "['#', '.', '#', '(', ')']\n"
          ]
        }
      ]
    },
    {
      "cell_type": "code",
      "source": [
        "text = \"ABCED3193P\"\n",
        "pattern = r\"[A-Z]{5}[0-9]{4}[A-Z]\"\n",
        "result = re.fullmatch(pattern, text)\n",
        "print(\"Valid PAN\" if result else \"Invalid PAN\")\n"
      ],
      "metadata": {
        "colab": {
          "base_uri": "https://localhost:8080/"
        },
        "id": "FP2p28C48c7x",
        "outputId": "323f5081-f9fc-4410-ea21-118881d14056"
      },
      "execution_count": null,
      "outputs": [
        {
          "output_type": "stream",
          "name": "stdout",
          "text": [
            "Valid PAN\n"
          ]
        }
      ]
    },
    {
      "cell_type": "code",
      "source": [
        "text = \"heyyy this is a verrrry loong texttt\"\n",
        "pattern = r'(.)\\1+'\n",
        "result = re.sub(pattern, r'\\1', text)\n",
        "print(result)\n"
      ],
      "metadata": {
        "colab": {
          "base_uri": "https://localhost:8080/"
        },
        "id": "INjARyqM8q5V",
        "outputId": "e69fc1bf-ca60-468d-fe1a-615900d2ec7a"
      },
      "execution_count": null,
      "outputs": [
        {
          "output_type": "stream",
          "name": "stdout",
          "text": [
            "hey this is a very long text\n"
          ]
        }
      ]
    },
    {
      "cell_type": "code",
      "source": [
        "text = \"9990001796 is a phone number\"\n",
        "pattern = r\"\\b[6-9]\\d{9}\\b\"\n",
        "result = re.findall(pattern, text)\n",
        "print(result)\n"
      ],
      "metadata": {
        "colab": {
          "base_uri": "https://localhost:8080/"
        },
        "id": "NGfvR1wg8wuN",
        "outputId": "278b3e9d-c153-4919-9e70-012abb06c456"
      },
      "execution_count": null,
      "outputs": [
        {
          "output_type": "stream",
          "name": "stdout",
          "text": [
            "['9990001796']\n"
          ]
        }
      ]
    },
    {
      "cell_type": "code",
      "source": [
        "text = \"Ajit Doval is the best National Security Advisor\"\n",
        "pattern = r\"\\b[A-Z][a-z]*\\b\"\n",
        "result = re.findall(pattern, text)\n",
        "print(result)\n"
      ],
      "metadata": {
        "colab": {
          "base_uri": "https://localhost:8080/"
        },
        "id": "jUgn7oDb80Qv",
        "outputId": "126af95a-394a-43df-f419-3ea8bd761ad9"
      },
      "execution_count": null,
      "outputs": [
        {
          "output_type": "stream",
          "name": "stdout",
          "text": [
            "['Ajit', 'Doval', 'National', 'Security', 'Advisor']\n"
          ]
        }
      ]
    }
  ]
}
