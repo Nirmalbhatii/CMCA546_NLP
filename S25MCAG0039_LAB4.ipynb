{
  "nbformat": 4,
  "nbformat_minor": 0,
  "metadata": {
    "colab": {
      "provenance": [],
      "authorship_tag": "ABX9TyPTYnWy7b9vFAr+JmSsZnHA",
      "include_colab_link": true
    },
    "kernelspec": {
      "name": "python3",
      "display_name": "Python 3"
    },
    "language_info": {
      "name": "python"
    }
  },
  "cells": [
    {
      "cell_type": "markdown",
      "metadata": {
        "id": "view-in-github",
        "colab_type": "text"
      },
      "source": [
        "<a href=\"https://colab.research.google.com/github/Nirmalbhatii/CMCA546_NLP/blob/main/S25MCAG0039_LAB4.ipynb\" target=\"_parent\"><img src=\"https://colab.research.google.com/assets/colab-badge.svg\" alt=\"Open In Colab\"/></a>"
      ]
    },
    {
      "cell_type": "code",
      "source": [
        "import nltk\n",
        "from nltk.corpus import brown\n",
        "\n",
        "nltk.download('brown')\n",
        "nltk.download('punkt')\n",
        "\n",
        "news_words = brown.words(categories='news')\n",
        "news_sents = brown.sents(categories='news')\n",
        "\n",
        "words = [w.lower() for w in news_words if w.isalpha()]\n",
        "\n",
        "print(\"Total sentences:\", len(news_sents))\n",
        "print(\"Total words:\", len(words))\n",
        "print(\"Vocabulary size:\", len(set(words)))\n"
      ],
      "metadata": {
        "colab": {
          "base_uri": "https://localhost:8080/"
        },
        "id": "Aw00CXTAHOQK",
        "outputId": "5039932a-7e71-4f0c-8f06-82423f3190fc"
      },
      "execution_count": 11,
      "outputs": [
        {
          "output_type": "stream",
          "name": "stderr",
          "text": [
            "[nltk_data] Downloading package brown to /root/nltk_data...\n",
            "[nltk_data]   Package brown is already up-to-date!\n",
            "[nltk_data] Downloading package punkt to /root/nltk_data...\n",
            "[nltk_data]   Package punkt is already up-to-date!\n"
          ]
        },
        {
          "output_type": "stream",
          "name": "stdout",
          "text": [
            "Total sentences: 4623\n",
            "Total words: 83562\n",
            "Vocabulary size: 11151\n"
          ]
        }
      ]
    },
    {
      "cell_type": "code",
      "source": [
        "def ngrams(tokens, n):\n",
        "    return [tuple(tokens[i:i+n]) for i in range(len(tokens)-n+1)]\n",
        "\n",
        "unigrams = ngrams(words, 1)\n",
        "bigrams = ngrams(words, 2)\n",
        "trigrams = ngrams(words, 3)\n",
        "\n",
        "bigram_freq = Counter(bigrams)\n",
        "trigram_freq = Counter(trigrams)\n",
        "\n",
        "print(\"Q2 Results:\")\n",
        "print(\"Top 20 Bigrams:\")\n",
        "for bg, count in bigram_freq.most_common(20):\n",
        "    print(bg, \":\", count)\n",
        "\n",
        "print(\"\\nTop 20 Trigrams:\")\n",
        "for tg, count in trigram_freq.most_common(20):\n",
        "    print(tg, \":\", count)\n",
        "print(\"-\" * 50)\n"
      ],
      "metadata": {
        "colab": {
          "base_uri": "https://localhost:8080/"
        },
        "id": "NlGV7n0OHYRh",
        "outputId": "ed33b051-3dc7-4dcd-9df8-dda56a6e59c5"
      },
      "execution_count": 12,
      "outputs": [
        {
          "output_type": "stream",
          "name": "stdout",
          "text": [
            "Q2 Results:\n",
            "Top 20 Bigrams:\n",
            "('of', 'the') : 850\n",
            "('in', 'the') : 610\n",
            "('to', 'the') : 279\n",
            "('on', 'the') : 258\n",
            "('for', 'the') : 223\n",
            "('at', 'the') : 204\n",
            "('will', 'be') : 157\n",
            "('that', 'the') : 149\n",
            "('and', 'the') : 142\n",
            "('with', 'the') : 142\n",
            "('in', 'a') : 120\n",
            "('of', 'a') : 120\n",
            "('by', 'the') : 115\n",
            "('to', 'be') : 108\n",
            "('from', 'the') : 104\n",
            "('for', 'a') : 101\n",
            "('as', 'a') : 91\n",
            "('the', 'first') : 88\n",
            "('has', 'been') : 87\n",
            "('he', 'said') : 80\n",
            "\n",
            "Top 20 Trigrams:\n",
            "('one', 'of', 'the') : 44\n",
            "('the', 'united', 'states') : 34\n",
            "('members', 'of', 'the') : 28\n",
            "('president', 'of', 'the') : 22\n",
            "('a', 'number', 'of') : 19\n",
            "('the', 'white', 'house') : 19\n",
            "('as', 'a', 'result') : 18\n",
            "('some', 'of', 'the') : 18\n",
            "('chairman', 'of', 'the') : 16\n",
            "('of', 'the', 'new') : 16\n",
            "('per', 'cent', 'of') : 15\n",
            "('a', 'member', 'of') : 15\n",
            "('in', 'the', 'past') : 14\n",
            "('the', 'new', 'york') : 14\n",
            "('will', 'be', 'the') : 13\n",
            "('the', 'university', 'of') : 13\n",
            "('as', 'well', 'as') : 13\n",
            "('a', 'result', 'of') : 12\n",
            "('in', 'the', 'state') : 12\n",
            "('for', 'the', 'first') : 12\n",
            "--------------------------------------------------\n"
          ]
        }
      ]
    },
    {
      "cell_type": "code",
      "source": [
        "def bigram_prob(w1, w2):\n",
        "    bigram_count = bigram_freq[(w1, w2)]\n",
        "    unigram_count = words.count(w1)\n",
        "    return bigram_count / unigram_count if unigram_count > 0 else 0\n",
        "\n",
        "def trigram_prob(w1, w2, w3):\n",
        "    trigram_count = trigram_freq[(w1, w2, w3)]\n",
        "    bigram_count = bigram_freq[(w1, w2)]\n",
        "    return trigram_count / bigram_count if bigram_count > 0 else 0\n",
        "\n",
        "print(\"Q3 Results:\")\n",
        "print(\"P('the' | 'in') =\", bigram_prob(\"in\", \"the\"))\n",
        "print(\"P('company' | 'of', 'the') =\", trigram_prob(\"of\", \"the\", \"company\"))\n",
        "print(\"-\" * 50)"
      ],
      "metadata": {
        "colab": {
          "base_uri": "https://localhost:8080/"
        },
        "id": "I-llcWnuHdU5",
        "outputId": "574b223e-84ae-4925-98b2-332b0acfa790"
      },
      "execution_count": 13,
      "outputs": [
        {
          "output_type": "stream",
          "name": "stdout",
          "text": [
            "Q3 Results:\n",
            "P('the' | 'in') = 0.30198019801980197\n",
            "P('company' | 'of', 'the') = 0.001176470588235294\n",
            "--------------------------------------------------\n"
          ]
        }
      ]
    },
    {
      "cell_type": "code",
      "source": [
        "import re\n",
        "\n",
        "def tokenize_like_corpus(s: str):\n",
        "    return re.findall(r\"[a-z]+\", s.lower())\n",
        "\n",
        "\n",
        "V = len(set(words))\n",
        "\n",
        "\n",
        "def bigram_prob_smoothed(w1, w2):\n",
        "    return (bigram_freq[(w1, w2)] + 1) / (words.count(w1) + V)\n",
        "\n",
        "def trigram_prob_smoothed(w1, w2, w3):\n",
        "    return (trigram_freq[(w1, w2, w3)] + 1) / (bigram_freq[(w1, w2)] + V)\n",
        "\n",
        "def sentence_prob_bigram(sentence: str):\n",
        "    toks = tokenize_like_corpus(sentence)\n",
        "    if len(toks) < 2:\n",
        "        return 0.0\n",
        "    p = 1.0\n",
        "    for i in range(len(toks) - 1):\n",
        "        p *= bigram_prob_smoothed(toks[i], toks[i+1])\n",
        "    return p\n",
        "\n",
        "def sentence_prob_trigram(sentence: str):\n",
        "    toks = tokenize_like_corpus(sentence)\n",
        "    if len(toks) < 3:\n",
        "\n",
        "        return sentence_prob_bigram(sentence)\n",
        "    p = 1.0\n",
        "    for i in range(len(toks) - 2):\n",
        "        p *= trigram_prob_smoothed(toks[i], toks[i+1], toks[i+2])\n",
        "    return p\n",
        "\n",
        "sentence = \"the president of the company\"\n",
        "print(\"Q4 Results (smoothed):\")\n",
        "print(\"Bigram Model Probability:\", sentence_prob_bigram(sentence))\n",
        "print(\"Trigram Model Probability:\", sentence_prob_trigram(sentence))\n"
      ],
      "metadata": {
        "colab": {
          "base_uri": "https://localhost:8080/"
        },
        "id": "gYn6iL6fIB-N",
        "outputId": "08846af6-aa1c-4459-c748-1f8cb2858a04"
      },
      "execution_count": 15,
      "outputs": [
        {
          "output_type": "stream",
          "name": "stdout",
          "text": [
            "Q4 Results (smoothed):\n",
            "Bigram Model Probability: 4.146986564495009e-10\n",
            "Trigram Model Probability: 9.181723409951398e-11\n"
          ]
        }
      ]
    }
  ]
}