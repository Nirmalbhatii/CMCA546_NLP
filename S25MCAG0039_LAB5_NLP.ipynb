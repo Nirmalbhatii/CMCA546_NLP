{
  "nbformat": 4,
  "nbformat_minor": 0,
  "metadata": {
    "colab": {
      "provenance": [],
      "authorship_tag": "ABX9TyPB+Ja2TcaNUmR2p6ZJDO0I",
      "include_colab_link": true
    },
    "kernelspec": {
      "name": "python3",
      "display_name": "Python 3"
    },
    "language_info": {
      "name": "python"
    }
  },
  "cells": [
    {
      "cell_type": "markdown",
      "metadata": {
        "id": "view-in-github",
        "colab_type": "text"
      },
      "source": [
        "<a href=\"https://colab.research.google.com/github/Nirmalbhatii/CMCA546_NLP/blob/main/S25MCAG0039_LAB5_NLP.ipynb\" target=\"_parent\"><img src=\"https://colab.research.google.com/assets/colab-badge.svg\" alt=\"Open In Colab\"/></a>"
      ]
    },
    {
      "cell_type": "code",
      "execution_count": 1,
      "metadata": {
        "colab": {
          "base_uri": "https://localhost:8080/"
        },
        "id": "1L5gFbi-KpDI",
        "outputId": "1d67362b-e7f8-48da-bd45-16bbb7b4f5e2"
      },
      "outputs": [
        {
          "output_type": "stream",
          "name": "stdout",
          "text": [
            "Posterior Probabilities:\n",
            "spam 4.8000000000000015e-05\n",
            "ham 3.358477132129207e-06\n"
          ]
        }
      ],
      "source": [
        "from collections import defaultdict\n",
        "import math\n",
        "\n",
        "\n",
        "emails = [\n",
        "    (\"Win money now\", \"spam\"),\n",
        "    (\"Lowest price guaranteed\", \"spam\"),\n",
        "    (\"Cheap meds available\", \"spam\"),\n",
        "    (\"Hello friend how are you\", \"ham\"),\n",
        "    (\"Let’s have lunch tomorrow\", \"ham\"),\n",
        "    (\"Meeting schedule attached\", \"ham\"),\n",
        "    (\"Win a free lottery ticket\", \"spam\"),\n",
        "    (\"See you at the conference\", \"ham\"),\n",
        "    (\"Project deadline reminder\", \"ham\"),\n",
        "    (\"Cheap loans available\", \"spam\")\n",
        "]\n",
        "\n",
        "\n",
        "def tokenize(text):\n",
        "    return text.lower().split()\n",
        "\n",
        "\n",
        "word_counts = {\"spam\": defaultdict(int), \"ham\": defaultdict(int)}\n",
        "class_counts = {\"spam\": 0, \"ham\": 0}\n",
        "vocab = set()\n",
        "\n",
        "for text, label in emails:\n",
        "    class_counts[label] += 1\n",
        "    for word in tokenize(text):\n",
        "        word_counts[label][word] += 1\n",
        "        vocab.add(word)\n",
        "\n",
        "V = len(vocab)\n",
        "\n",
        "def calculate_posterior(test_words):\n",
        "    posteriors = {}\n",
        "    for label in [\"spam\", \"ham\"]:\n",
        "\n",
        "        log_prob = math.log(class_counts[label] / len(emails))\n",
        "        total_words = sum(word_counts[label].values())\n",
        "\n",
        "        for w in test_words:\n",
        "            count = word_counts[label][w]\n",
        "            log_prob += math.log((count + 1) / (total_words + V))\n",
        "        posteriors[label] = log_prob\n",
        "    return posteriors\n",
        "\n",
        "test_email = [\"cheap\", \"price\", \"now\"]\n",
        "posterior = calculate_posterior(test_email)\n",
        "\n",
        "print(\"Posterior Probabilities:\")\n",
        "for label in posterior:\n",
        "    print(label, math.exp(posterior[label]))\n"
      ]
    },
    {
      "cell_type": "code",
      "source": [
        "class NaiveBayesClassifier:\n",
        "    def __init__(self):\n",
        "        self.word_counts = {\"spam\": defaultdict(int), \"ham\": defaultdict(int)}\n",
        "        self.class_counts = {\"spam\": 0, \"ham\": 0}\n",
        "        self.vocab = set()\n",
        "\n",
        "    def train(self, data):\n",
        "        for text, label in data:\n",
        "            self.class_counts[label] += 1\n",
        "            for word in tokenize(text):\n",
        "                self.word_counts[label][word] += 1\n",
        "                self.vocab.add(word)\n",
        "        self.V = len(self.vocab)\n",
        "\n",
        "    def predict(self, text):\n",
        "        words = tokenize(text)\n",
        "        scores = {}\n",
        "        for label in [\"spam\", \"ham\"]:\n",
        "            log_prob = math.log(self.class_counts[label] / sum(self.class_counts.values()))\n",
        "            total_words = sum(self.word_counts[label].values())\n",
        "            for w in words:\n",
        "                count = self.word_counts[label][w]\n",
        "                log_prob += math.log((count + 1) / (total_words + self.V))\n",
        "            scores[label] = log_prob\n",
        "        return max(scores, key=scores.get)\n",
        "\n",
        "\n",
        "nb = NaiveBayesClassifier()\n",
        "nb.train(emails)\n",
        "\n",
        "\n",
        "test_samples = [\n",
        "    \"win a lottery\",\n",
        "    \"project meeting tomorrow\",\n",
        "    \"cheap price now\"\n",
        "]\n",
        "for t in test_samples:\n",
        "    print(t, \"->\", nb.predict(t))\n"
      ],
      "metadata": {
        "colab": {
          "base_uri": "https://localhost:8080/"
        },
        "id": "j0fAshQ3LPhK",
        "outputId": "d249cc79-8368-40de-c6a9-91153a32bbeb"
      },
      "execution_count": 2,
      "outputs": [
        {
          "output_type": "stream",
          "name": "stdout",
          "text": [
            "win a lottery -> spam\n",
            "project meeting tomorrow -> ham\n",
            "cheap price now -> spam\n"
          ]
        }
      ]
    },
    {
      "cell_type": "code",
      "source": [
        "from sklearn.feature_extraction.text import CountVectorizer\n",
        "from sklearn.naive_bayes import MultinomialNB\n",
        "from sklearn.metrics import accuracy_score\n",
        "\n",
        "texts = [t for t, _ in emails]\n",
        "labels = [l for _, l in emails]\n",
        "\n",
        "\n",
        "vectorizer = CountVectorizer()\n",
        "X = vectorizer.fit_transform(texts)\n",
        "\n",
        "\n",
        "clf = MultinomialNB()\n",
        "clf.fit(X, labels)\n",
        "\n",
        "\n",
        "y_pred = clf.predict(X)\n",
        "print(\"Accuracy:\", accuracy_score(labels, y_pred))\n",
        "\n",
        "\n",
        "test = [\"cheap price now\"]\n",
        "print(\"Prediction:\", clf.predict(vectorizer.transform(test))[0])\n"
      ],
      "metadata": {
        "colab": {
          "base_uri": "https://localhost:8080/"
        },
        "id": "te2_zWElLY09",
        "outputId": "03105317-bbc2-4dbc-927f-94d93c7d46df"
      },
      "execution_count": 3,
      "outputs": [
        {
          "output_type": "stream",
          "name": "stdout",
          "text": [
            "Accuracy: 1.0\n",
            "Prediction: spam\n"
          ]
        }
      ]
    }
  ]
}