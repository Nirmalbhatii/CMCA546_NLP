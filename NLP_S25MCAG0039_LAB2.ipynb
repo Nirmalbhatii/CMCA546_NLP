{
  "nbformat": 4,
  "nbformat_minor": 0,
  "metadata": {
    "colab": {
      "provenance": [],
      "authorship_tag": "ABX9TyMQf8AC1WwWq6XlrOlxEEdO",
      "include_colab_link": true
    },
    "kernelspec": {
      "name": "python3",
      "display_name": "Python 3"
    },
    "language_info": {
      "name": "python"
    }
  },
  "cells": [
    {
      "cell_type": "markdown",
      "metadata": {
        "id": "view-in-github",
        "colab_type": "text"
      },
      "source": [
        "<a href=\"https://colab.research.google.com/github/Nirmalbhatii/CMCA546_NLP/blob/main/NLP_S25MCAG0039_LAB2.ipynb\" target=\"_parent\"><img src=\"https://colab.research.google.com/assets/colab-badge.svg\" alt=\"Open In Colab\"/></a>"
      ]
    },
    {
      "cell_type": "code",
      "execution_count": 1,
      "metadata": {
        "colab": {
          "base_uri": "https://localhost:8080/"
        },
        "id": "Kl8qHPluhIfk",
        "outputId": "fe7f1f9e-bfd5-46cf-946a-749a7fd5bc62"
      },
      "outputs": [
        {
          "output_type": "stream",
          "name": "stdout",
          "text": [
            "CLEANED TEXT:\n",
            "\n",
            "whoaa  this article on ai  ethics iss firee! i mean, woww, the way it talks about robotss takin over da world? loll  so craazy! found it at ww.robotnews.com 4 real, you gotta read itt!  scarybutcool futuristictt cantt evenn with this new techpp blog.. soo muchh info jampacked in one loong postt ! but the way itzz writtenn nahh bruh. full of typos, emoji overload , and weirdd punctuationn like !?! find it at ww.techmessy.io a.i. is changinn da worldd, fam!  like everyy single aspect of lifeeworkk, healthh, educashun ! dis article how ai gonna make you smarterr was lit . got it from ww.getsmartai.com please fix the grammerz though loolz ! omg omg omg ! that post on generative ai  music just blew my headd off!  no joke! beethovenn with beats lol whatt evenn  nextlevel. saw it on ww.genmusic.art so so many randomnn letterss  symbols  lolz! you ever read sumthing n feel dumberr after?  this blog on ai bias had soo manyy errorss, like spellingg, grammerzz, and weird layout .. i had to squintt. check dis out ww.wacksource.ai but read at your own risk lololol\n"
          ]
        }
      ],
      "source": [
        "\n",
        "import re\n",
        "\n",
        "\n",
        "text = \"\"\"\n",
        "whoaaaa 😵 this article on AI & ethics issss fireeee!!! i mean, wowww, the way it talks about robotssss takin’ over da world? lollll 😂😂😂 so craaazy! found it at www.robotnews.com//// 4 real, u gotta read ittt!!! @@@ #scarybutcool #futuristicttt\n",
        "\n",
        "can'tttt evennnn with this new techppp blog... sooo muchhh info jam-packed in one loooong posttttt 😩😩!! but the way itzz writtennn… nahhh bruh. full of typos, emoji overload 🤯💥, and weirddddd punctuationnnn like !!!!!!????!!! find it at www.techmessy.io////\n",
        "\n",
        "A.I. is changinnn’ da worldd, fam!! 🤖✨ like everyyy single aspect of lifeee—workkk, healthhh, educashun 😂😂😂!! dis article: \"how AI gonna make u smarterrrr\" waz LIT 🔥🔥🔥. got it from www.getsmartai.com//// plzzzz fix the grammerz tho #looolz @@@!!!!\n",
        "\n",
        "omg omg omg 😱😱!! dat post on generative AI + music just BLEW MY HEADDD OFF!! 🧠💥💥💥 no joke!!! \"beethovennnn with beats\" lol whattt evennnn 😆😆 #nextlevel. saw it on www.genmusic.art//// so so many randomnn letterssss & symbols #@#@# 😵\n",
        "\n",
        "lolz!!! u ever read sumthing n feel dumberrrr after??? 🤣🤣 this blog on AI bias had soooo manyyyy errorsss, like spellingggg, grammerzz, and weird layout @@@%%%... i had to squinttttt. check dis out: www.wacksource.ai//// but read at ur own risk lololol\n",
        "\"\"\"\n",
        "\n",
        "\n",
        "text = text.lower()\n",
        "\n",
        "\n",
        "text = re.sub(r'\\s+', ' ', text).strip()\n",
        "\n",
        "\n",
        "contractions = {\n",
        "    \"can't\": \"cannot\",\n",
        "    \"i <3\": \"i love\",\n",
        "    \"u\": \"you\",\n",
        "    \"ur\": \"your\",\n",
        "    \"waz\": \"was\",\n",
        "    \"dat\": \"that\",\n",
        "    \"tho\": \"though\",\n",
        "    \"plzzzz\": \"please\",\n",
        "    \"plzzz\": \"please\",\n",
        "    \"plzz\": \"please\",\n",
        "    \"plz\": \"please\"\n",
        "}\n",
        "for k, v in contractions.items():\n",
        "    text = re.sub(r'\\b' + re.escape(k) + r'\\b', v, text)\n",
        "\n",
        "\n",
        "text = re.sub(r'[^a-zA-Z0-9\\s\\.,!?]', '', text)\n",
        "\n",
        "\n",
        "text = re.sub(r'(.)\\1{2,}', r'\\1\\1', text)\n",
        "\n",
        "\n",
        "text = re.sub(r'!{2,}', '!', text)\n",
        "text = re.sub(r'\\?{2,}', '?', text)\n",
        "\n",
        "\n",
        "text = re.sub(r'www\\.[a-zA-Z0-9\\-\\.]+/+', '', text)\n",
        "\n",
        "\n",
        "print(\"CLEANED TEXT:\\n\")\n",
        "print(text)\n"
      ]
    }
  ]
}