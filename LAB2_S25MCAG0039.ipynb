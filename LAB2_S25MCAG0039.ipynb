{
  "nbformat": 4,
  "nbformat_minor": 0,
  "metadata": {
    "colab": {
      "provenance": [],
      "authorship_tag": "ABX9TyNqF31O9acPI4mkrIrzjqWF",
      "include_colab_link": true
    },
    "kernelspec": {
      "name": "python3",
      "display_name": "Python 3"
    },
    "language_info": {
      "name": "python"
    }
  },
  "cells": [
    {
      "cell_type": "markdown",
      "metadata": {
        "id": "view-in-github",
        "colab_type": "text"
      },
      "source": [
        "<a href=\"https://colab.research.google.com/github/Nirmalbhatii/CMCA546_NLP/blob/main/LAB2_S25MCAG0039.ipynb\" target=\"_parent\"><img src=\"https://colab.research.google.com/assets/colab-badge.svg\" alt=\"Open In Colab\"/></a>"
      ]
    },
    {
      "cell_type": "code",
      "execution_count": 1,
      "metadata": {
        "colab": {
          "base_uri": "https://localhost:8080/"
        },
        "id": "Y-pD3jfy9o7z",
        "outputId": "f2f1d33a-2f26-4944-a980-ce4758dc4f2c"
      },
      "outputs": [
        {
          "output_type": "stream",
          "name": "stdout",
          "text": [
            "whoaa this article on ai ethics iss firee! i mean, woww, the way it talks about robotss takin over the world? loll so craazy! found it at ww.robotnews 4 real, you gotta read itt! scarybutcool futuristictt can'tt evenn with this new techpp blog. soo muchh info jam-packed in one loong postt ! but the way itzz writtenn nahh bro. full of typos, emoji overload , and weirdd punctuationn like ! find it at ww.techmessy.io a.i. is changinn da worldd, family! like everyy single aspect of lifeeworkk, healthh, educashun ! this article \"how ai going to make you smarterr\" was lit . got it from ww.getsmartai plzz fix the grammerz tho loolz ! omg omg omg ! that post on generative ai music just blew my headd off! no joke! \"beethovenn with beats\" lol whatt evenn nextlevel. saw it on ww.genmusic.art so so many randomnn letterss symbols lol! you ever read sumthing and feel dumberr after? this blog on ai bias had soo manyy errorss, like spellingg, grammerzz, and weird layout . i had to squintt. check this out ww.wacksource.ai but read at your own risk lololol\n"
          ]
        }
      ],
      "source": [
        "\n",
        "import re\n",
        "\n",
        "# Original uncleaned text\n",
        "text = \"\"\"\n",
        "whoaaaa 😵 this article on AI & ethics issss fireeee!!! i mean, wowww, the way it talks about robotssss takin’ over da world? lollll 😂😂😂 so craaazy! found it at www.robotnews.com//// 4 real, u gotta read ittt!!! @@@ #scarybutcool #futuristicttt\n",
        "\n",
        "can'tttt evennnn with this new techppp blog... sooo muchhh info jam-packed in one loooong posttttt 😩😩!! but the way itzz writtennn… nahhh bruh. full of typos, emoji overload 🤯💥, and weirddddd punctuationnnn like !!!!!!????!!! find it at www.techmessy.io////\n",
        "\n",
        "A.I. is changinnn’ da worldd, fam!! 🤖✨ like everyyy single aspect of lifeee—workkk, healthhh, educashun 😂😂😂!! dis article: \"how AI gonna make u smarterrrr\" waz LIT 🔥🔥🔥. got it from www.getsmartai.com//// plzzzz fix the grammerz tho #looolz @@@!!!!\n",
        "\n",
        "omg omg omg 😱😱!! dat post on generative AI + music just BLEW MY HEADDD OFF!! 🧠💥💥💥 no joke!!! \"beethovennnn with beats\" lol whattt evennnn 😆😆 #nextlevel. saw it on www.genmusic.art//// so so many randomnn letterssss & symbols #@#@# 😵\n",
        "\n",
        "lolz!!! u ever read sumthing n feel dumberrrr after??? 🤣🤣 this blog on AI bias had soooo manyyyy errorsss, like spellingggg, grammerzz, and weird layout @@@%%%... i had to squinttttt. check dis out: www.wacksource.ai//// but read at ur own risk lololol\n",
        "\"\"\"\n",
        "\n",
        "# Step 1: Lowercasing\n",
        "text = text.lower()\n",
        "\n",
        "# Step 2: Remove extra whitespaces\n",
        "text = re.sub(r'\\s+', ' ', text)\n",
        "\n",
        "# Step 3: Handling contractions (you can use a library, but here is a manual approach)\n",
        "contractions = {\n",
        "    \"can't\": \"cannot\",\n",
        "    \"won't\": \"will not\",\n",
        "    \"i'm\": \"i am\",\n",
        "    \"it's\": \"it is\",\n",
        "    \"u\": \"you\",\n",
        "    \"ur\": \"your\",\n",
        "    \"n't\": \" not\",\n",
        "    \"’\": \"'\",\n",
        "    \"'re\": \" are\",\n",
        "    \"'ll\": \" will\",\n",
        "    \"'ve\": \" have\",\n",
        "    \"'d\": \" would\",\n",
        "    \"'s\": \" is\",\n",
        "    \"n \": \"and \",\n",
        "    \" da \": \" the \",\n",
        "    \"dat\": \"that\",\n",
        "    \"dis\": \"this\",\n",
        "    \"gonna\": \"going to\",\n",
        "    \"waz\": \"was\",\n",
        "    \"bruh\": \"bro\",\n",
        "    \"fam\": \"family\",\n",
        "    \"lolz\": \"lol\",\n",
        "}\n",
        "for k, v in contractions.items():\n",
        "    text = re.sub(rf'\\b{k}\\b', v, text)\n",
        "\n",
        "# Step 4: Remove special characters and emojis\n",
        "text = re.sub(r'[^\\w\\s.,!?\\'\\\"-]', '', text)\n",
        "\n",
        "# Step 5: Reduce duplicate letters (3+ times to 2)\n",
        "def reduce_repeats(word):\n",
        "    return re.sub(r'(.)\\1{2,}', r'\\1\\1', word)\n",
        "\n",
        "text = ' '.join([reduce_repeats(word) for word in text.split()])\n",
        "\n",
        "# Step 6: Fix punctuation (e.g., excessive !!!???)\n",
        "text = re.sub(r'[!?.,]{2,}', lambda m: m.group(0)[0], text)\n",
        "\n",
        "# Step 7: Remove URL artifacts\n",
        "text = re.sub(r'www\\.\\S+|https?://\\S+|\\.com\\S*|////', '', text)\n",
        "\n",
        "# Final Cleanup: Normalize extra spaces again\n",
        "text = re.sub(r'\\s+', ' ', text).strip()\n",
        "\n",
        "# Print the cleaned result\n",
        "print(text)"
      ]
    }
  ]
}